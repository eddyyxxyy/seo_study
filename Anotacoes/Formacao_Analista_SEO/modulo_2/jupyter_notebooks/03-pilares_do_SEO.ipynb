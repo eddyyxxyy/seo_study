{
 "cells": [
  {
   "attachments": {},
   "cell_type": "markdown",
   "metadata": {},
   "source": [
    "# Pilares do SEO\n",
    "\n",
    "Agora que já entendemos o que é SEO, iremos entender os três grandes pilares que abrangem a disciplina de SEO.\n",
    "\n",
    "## Tecnologia, Conteúdo e Autoridade\n",
    "\n",
    "### Tecnologia\n",
    "\n",
    "Quando falamos de tecnologia estamos nos referindo, majoritariamente, a:\n",
    "\n",
    "- **Crawler**: o Bot que *rasteja* pela web e *indexa* as páginas web;\n",
    "- **HTML**: a linguagem de marcação do seu site, que é *analisado* e *indexado* pelo **Crawler**;\n",
    "- **Plataforma**: se o acesso está sendo feito por um *dispositivo móvel*, *desktop* ou algum outro;\n",
    "- **Velocidade**: tempo de carregamento das páginas e todos os seus componentes;\n",
    "- **Hospedagem**: onde seu site está hospedado, o servidor.\n",
    "\n",
    "Basicamente é o que está por trás das câmeras, não estamos diretamente vendo esses aspectos, mas são necessários e parte essencial para um bom funcionamento, indexação e ranqueamento do seu site.\n",
    "\n",
    "### Conteúdo\n",
    "\n",
    "Quando falamos de conteúdo estamos nos referindo, majoritariamente, a:\n",
    "\n",
    "- **Design**: que é como seu site será estéticamente apresentado;\n",
    "- **Redação**: qual é o conteúdo escrito que temos em nosso site, para o usuário;\n",
    "- **Palavras-Chave**: quais palavras-chave escolhemos e utilizamos, além de se preocupar com a melhor utilização possível;\n",
    "- **Arquitetura do Site**: que se refere à estrutura de URLs, categorias, tópicos, tags, o nivelamento do seu site em termos gerais.\n",
    "\n",
    "Em suma, o conteúdo é aquilo que estamos vendo no site, aquilo que o usuário vê e consome.\n",
    "\n",
    "### Autoridade\n",
    "\n",
    "Quando falamos de autoridade, estamos nos referindo à impressão e ranqueamento que nosso site possui para o Google e outros sites (é como se fosse o conceito de Visão que empresas tentam passar).\n",
    "\n",
    "Alguns fatores que corroboram para isso são:\n",
    "\n",
    "- **Link Building**: que é uma estratégia de conquistar links que levam ao seu site de outras plataformas, de outros sites pro seu site;\n",
    "- **Autoridade do Domínio**: a autoridade que seu domínio tem no seu nicho, no seu seguimento do mercado;\n",
    "- **Backlinks**: é o resultado do Link Building, os links que conquistamos são *Backlinks*."
   ]
  }
 ],
 "metadata": {
  "language_info": {
   "name": "python"
  },
  "orig_nbformat": 4
 },
 "nbformat": 4,
 "nbformat_minor": 2
}
