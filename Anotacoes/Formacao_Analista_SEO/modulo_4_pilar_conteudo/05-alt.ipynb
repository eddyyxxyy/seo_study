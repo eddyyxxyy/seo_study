{
 "cells": [
  {
   "attachments": {},
   "cell_type": "markdown",
   "metadata": {},
   "source": [
    "# Alt tag\n",
    "\n",
    "Agora iremos falar sobre a `alt tag`, provavelmente a ultima que iremos abordar nesse módulo e é também de suma importância para SEO.\n",
    "\n",
    "A tag `alt` é mais uma das tags inseridas no HTML da página, o objetivo dela é descrever a imagem que ela está inserida e a tradução para seu nome completo \"Alt Text\" é \"Texto Alternativo\".\n",
    "\n",
    "Ela foi criada com a finalidade de facilitar a acessibilidade para que pessoas com deficiências visuais pudessem entender do que a imagem se trata, além disso ela também auxilia na indexação da página, é um fator de ranqueamento e também serve para que as imagens estejam no Google Imagens.\n",
    "\n",
    "Então vamos ver como ela funciona.\n",
    "\n",
    "## Como funciona a Alt tag?\n",
    "\n",
    "Quando fazemos o processo de inspecionar elementos em uma página nos nossos navegadores, podemos notar que as imagens são chamadas de uma forma específica, com a tag `img`, e dentro dessa tag há várias diretivas que estão contidas dentro de um esquema como \"nome-da-diretiva='conteúdo da diretiva'\".\n",
    "\n",
    "```html\n",
    "<!-- Exemplo hipotético -->\n",
    "<img src=\"https://www.cachorros.com/fotos/border-colie-com-fome\" alt=\"Cachorro com muita fome, com a lingua para fora\">\n",
    "```\n",
    "\n",
    "Pode-se pensar que, ao utilizar as `alt tags`, podemos mais uma vez atacar as palavras-chave do nosso conteúdo e agregar ainda mais valor para nossa página como uma Autoridade no assunto. Se a publicação ou página do seu site fala sobre alimentação de cachorros, essas tags podem auxiliar no ranqueamento e indexação da página, além de levar a imagem usada que linka para seu site para o Google Imagens.\n",
    "\n",
    "### Quais as regras para criar Alt tags?\n",
    "\n",
    "As `alt tags` são descrições breves, sem encher os buscadores ou usuários que utilizam leitores de páginas com uma descrição detalhada e criteriosa de cada elemento presente na imagem, deve-se descrevê-la de forma curta para que corrobore não somente para o entendimento da imagem, mas que evidêncie a conexão da imagem com o texto.\n",
    "\n",
    "Usamos essa tag para trazer conceito à imagens e colaborar com a estratégia de SEO empregada, vamos elencar três detalhes importantes sobre essa implementação:\n",
    "\n",
    "- Construa uma descrição objetiva de cada imagem, com até 125 caracteres;\n",
    "- Utilize keywords estratégicas, sem tentar otimizar de forma excessiva, pois o foco é o entendimento da imagem e;\n",
    "- Garanta que toda imagem possui uma `alt tag`.\n",
    "\n",
    "A acessibilidade é um dos fatores mais importantes de um site que quer ranquear bem, junto do desempenho e qualidade da arquitetura do site e conteúdo."
   ]
  }
 ],
 "metadata": {
  "language_info": {
   "name": "python"
  },
  "orig_nbformat": 4
 },
 "nbformat": 4,
 "nbformat_minor": 2
}
