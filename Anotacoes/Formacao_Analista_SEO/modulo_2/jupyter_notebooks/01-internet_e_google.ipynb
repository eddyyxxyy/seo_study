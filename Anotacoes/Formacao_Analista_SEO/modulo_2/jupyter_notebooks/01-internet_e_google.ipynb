{
 "cells": [
  {
   "attachments": {},
   "cell_type": "markdown",
   "metadata": {},
   "source": [
    "# Internet e Google\n",
    "\n",
    "Hoje em dia a Internet se tornou quase que vital, usamos pra fazer compras, se locomover, falar com amigos, trabalhar, jogar, se divertir, estudar... Por isso, iremos começar falando sobre Internet.\n",
    "\n",
    "Dados baseados no artigo: https://datareportal.com/reports/digital-2022-global-overview-report\n",
    "\n",
    "## Internet\n",
    "\n",
    "Você sabia que as pessoas, em média, usam a Internet por 6 horas e 58 minutos por dia? Estar na Internet é mandatório quando começamos a ver alguns desses dados.\n",
    "\n",
    "Agora falando sobre como as pessoas usam a Internet no dia a dia:\n",
    "\n",
    "- 67% das pessoas usam a Internet para fazer buscas;\n",
    "    - É o \"motivo principal\" delas estarem na Internet.\n",
    "- Quando pensamos na intenção de compra, quase 50% das pessoas usam a Internet para encontrar marcas que já conhecem e 30% descobrem novas marcas através dos buscadores;\n",
    "    - Ou seja, os buscadores são os grandes influenciadores no processo de compra dos usuários na Internet.\n",
    "\n",
    "> E geralmente quando estamos falando dos buscadores, estamos falando do Google.\n",
    "\n",
    "## Google\n",
    "\n",
    "Você conhece algum outro buscador que não seja o Google?\n",
    "\n",
    "Nós sempre pensamos nele e não é atoa. Quando falamos dos Marketshares dos buscadores, o Google é responsável por quase 92% no mundo todo e quando falamos dessa estatística no Brasil, ele é responsável por 97%.\n",
    "\n",
    "Principais buscadores no mundo:\n",
    "\n",
    "- Google: 91.42%;\n",
    "- Bing: 3.14%;\n",
    "- Baidu: 1.75%;\n",
    "- Yahoo: 1.53%;\n",
    "- Yandex: 0.92%;\n",
    "- Outros: 1.24%.\n",
    "\n",
    "## E para completar os dados sobre consumo digital\n",
    "\n",
    "Vamos falar sobre os dispositivos.\n",
    "\n",
    "Quando pensamos: por onde acesso a Internet na maior parte do seu tempo?\n",
    "\n",
    "Temos que:\n",
    "\n",
    "- 53.96% em celulares;\n",
    "- 43.53% em computadores;\n",
    "- 2.47% em tablets;\n",
    "- 0.03% em outros dispositivos.\n",
    "\n",
    "O que fica claro para nós com essas estatísticas? Que hoje em dia os celulares estão conquistando cada vez mais espaço e os usuários estão consumindo mais conteúdo através do celular."
   ]
  }
 ],
 "metadata": {
  "language_info": {
   "name": "python"
  },
  "orig_nbformat": 4
 },
 "nbformat": 4,
 "nbformat_minor": 2
}
