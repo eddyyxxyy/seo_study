{
 "cells": [
  {
   "attachments": {},
   "cell_type": "markdown",
   "metadata": {},
   "source": [
    "# O que vamos aprender no curso de SEO\n",
    "\n",
    "Este curso se trata sobre técnicas e estatégias de SEO para que possamos melhorar o posicionamento do seu site/loja/landing page nas buscas orgânicas do Google.\n",
    "\n",
    "Quando pesquisamos no Google obtemos resultados que estão *rankeados*, estão numa ordem da primeira à ultima página. Os primeiros à aparecer são os que tiveram um bom trabalho de SEO, que tem um conteúdo bom o suficiente (alinhado com as estratégias e técnicas de SEO) para estar aparecendo antes como conteúdo mais relevante.\n",
    "\n",
    "## Sobre o curso\n",
    "\n",
    "- Terá 80% de seu conteúdo gratuito e 20% premium;\n",
    "- Aulas no canal Curso em Vídeo;\n",
    "- Tópicos:\n",
    "    - Introdução ao SEO e Mecanismos de Busca;\n",
    "    - Técnicas de SEO, Estratégias de SEO e Fatores de Ranqueamento;\n",
    "    - Google Analytics e Google Search Console;\n",
    "    - Rank Math e Yoast (WordPress);\n",
    "    - Palavras-chave, títulos, links, estruturas de URLs, conteúdo e metadados;\n",
    "    - Meta Description;\n",
    "    - Performance;\n",
    "    - Cuidado e Recomendações."
   ]
  }
 ],
 "metadata": {
  "kernelspec": {
   "display_name": "seo-Y3qGFGQu-py3.11",
   "language": "python",
   "name": "python3"
  },
  "language_info": {
   "name": "python",
   "version": "3.11.1"
  },
  "orig_nbformat": 4,
  "vscode": {
   "interpreter": {
    "hash": "931caaa57f37bf04d004f1edaf59e4142fc201490b747478c2d384d7cff30b59"
   }
  }
 },
 "nbformat": 4,
 "nbformat_minor": 2
}
