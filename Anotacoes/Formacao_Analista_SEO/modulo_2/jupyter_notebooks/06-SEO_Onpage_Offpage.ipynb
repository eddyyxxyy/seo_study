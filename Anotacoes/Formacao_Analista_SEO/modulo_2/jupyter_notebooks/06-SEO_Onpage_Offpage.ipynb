{
 "cells": [
  {
   "attachments": {},
   "cell_type": "markdown",
   "metadata": {},
   "source": [
    "# SEO Onpage e Offpage\n",
    "\n",
    "Existem dois formatos que podemos nos referir quando falamos dos núcleos de SEO no dia a dia de trabalho.\n",
    "\n",
    "Sobre o primeiro (SEO Onpage) nós já tivemos uma boa noção em anotações anteriores, como por exemplo nos Pilares de SEO e as Diretrizes do Google, pelo menos no que diz respeito à nossa arquitetura, produção de conteúdo e uso de técnicas de otimização no próprio site.\n",
    "\n",
    "Já sobre o segundo, que vamos tratar também agora, deixa mais clara a divisão de SEO Onpage e Offpage, uma vez que são otimizações feitas fora do nosso site. Vamos então elencar suas características mais notáveis à fim de diferenciar bem os conceitos...\n",
    "\n",
    "## Características\n",
    "\n",
    "SEO **Onpage** (dentro do site):\n",
    "\n",
    "- Title tag;\n",
    "- URL;\n",
    "- Meta Description;\n",
    "- Keywords;\n",
    "- Imagens;\n",
    "- Headings (h1, h2, h3, etc);\n",
    "- Textos/Conteúdo;\n",
    "- Sitemap;\n",
    "- Robots.txt;\n",
    "- Arquitetura do site...\n",
    "\n",
    "SEO **Offpage** (fora do seu site):\n",
    "\n",
    "- Links externos (Backlinks);\n",
    "- Menções sociais (em redes sociais);\n",
    "- Menções em outros sites sem uso de links..."
   ]
  }
 ],
 "metadata": {
  "language_info": {
   "name": "python"
  },
  "orig_nbformat": 4
 },
 "nbformat": 4,
 "nbformat_minor": 2
}
