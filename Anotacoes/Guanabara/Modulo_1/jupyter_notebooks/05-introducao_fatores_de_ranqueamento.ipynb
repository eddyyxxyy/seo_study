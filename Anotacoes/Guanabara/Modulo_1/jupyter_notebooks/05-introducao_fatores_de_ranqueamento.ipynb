{
 "cells": [
  {
   "attachments": {},
   "cell_type": "markdown",
   "metadata": {},
   "source": [
    "# Introdução aos fatores de ranqueamento\n",
    "\n",
    "## De onde vem os fatores ranqueamento?\n",
    "\n",
    "Muitos de nós pensamos que quem determinam os fatores de ranqueamento é o Google, como se fosse uma listinha que pode-se consultar e simplesmente ranquear os sites. Fatores estes que só conseguimos de fato entender pelas postagens de atualização do Google e estudos de terceiros, são os estudos que o produtores de ferramentas de SEO fazem e conseguem determinar por meio de alguma técnica que determinado fator é valioso.\n",
    "\n",
    "Para se manter atualizado sobre os fatores de ranqueamento atuais temos algumas possibilidades, uma delas é fazer parte de comunidades sérias de SEO.\n",
    "\n",
    "## Tipos de fatores de ranqueamento\n",
    "\n",
    "Há livros e outros materiais de estudo que separam/classificam os tipos de fatores de ranqueamento de uma outra maneira. Iremos abordar aqui com termos próprios, para aplicarmos junto da criação dos sites. Estes fatores podem ser divididos nesses momentos da implementação, esses momentos são:\n",
    "\n",
    "1. Planejamento:\n",
    "    - Quando usamos?\n",
    "        - Durante o planejamento, antes da criação.\n",
    "    - Exemplos:\n",
    "        - Escolha do domínio;\n",
    "        - Arquitetura do site;\n",
    "        - Entre outros...\n",
    "2. Criação:\n",
    "    - Quando usamos?\n",
    "        - Durante a criação do site, loja ou página.\n",
    "    - Exemplos:\n",
    "        - Títulos;\n",
    "        - Palavras-chave;\n",
    "        - Uso de cache;\n",
    "        - Entre outros...\n",
    "3. Acompanhamento:\n",
    "    - Quando usamos?\n",
    "        - Após a conclusão do site.\n",
    "    - Exemplos:\n",
    "        - Backlinks;\n",
    "        - Conteúdo como estratégia;\n",
    "        - Entre outros...\n",
    "\n",
    "Possivelmente a parte mais trabalhosa é o Acompanhamento, pois o trabalho de SEO é algo trabalhoso. A ação de jogar muitas responsabilidades no cliente, na pessoa que encomenda um site para nós por exemplo, é algo comum e muitos o fazem, mas esse não é nosso caso. Mas, de toda forma, deve-se cobrar à parte esse tipo de prestação de serviço, como um serviço mensal de consultoria SEO, contratando ferramentas pagas para te auxiliar nesse trabalho e obter o melhor resultado para o cliente (serviços assim não costumam ser baratos).\n",
    "\n",
    "De forma errônea muitos pensam que a gestão de redes sociais e consultoria de SEO são trabalhos que \"terminam\", sendo que na verdade são trabalhos de acompanhamento mesmo, serviços contínuos.\n",
    "\n",
    "### Categorias\n",
    "\n",
    "- Fatores do domínio;\n",
    "- Fatores de página:\n",
    "    - Além da escolha do domínio, de fazer o SEO para o site, **fazemos o SEO para cada página** (cada página deve ser indexada).\n",
    "- Fatores de conteúdo:\n",
    "    - Diferente dos fatores de página, como títulos, URL e o uso de palavras-chave dentro do conteúdo da página.\n",
    "- Fatores do site;\n",
    "- Fatores de interação de usuário:\n",
    "    - Por exemplo, o tempo que o usuário fica em sua página após clicar no link que leva até ela.\n",
    "- Fatores de Backlinks:\n",
    "    - Referências ao seu site, para algum artigo do seu blog por exemplo;\n",
    "    - Há Backlinks bons e ruins, como, por exemplo, Backlinks de um site de span, que vendia esse engajamento.\n",
    "- Regras do Algoritmo;\n",
    "- Sinais de marca:\n",
    "    - Menções de marcas famosas, diretamente (sem ser links), também contam;\n",
    "    - São fatores de mais baixo resultado."
   ]
  }
 ],
 "metadata": {
  "kernelspec": {
   "display_name": "Python 3",
   "language": "python",
   "name": "python3"
  },
  "language_info": {
   "name": "python",
   "version": "3.11.1"
  },
  "orig_nbformat": 4,
  "vscode": {
   "interpreter": {
    "hash": "c812eb984687e98b7686c463c3fae2045e58b2a2b4e065b3dcebe3cb7d51662e"
   }
  }
 },
 "nbformat": 4,
 "nbformat_minor": 2
}
