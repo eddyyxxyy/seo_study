{
 "cells": [
  {
   "attachments": {},
   "cell_type": "markdown",
   "metadata": {},
   "source": [
    "# White Hat *x* Grey Hat *x* Black Hat\n",
    "\n",
    "Existem conceitos em SEO parecidos com o que já se conhece dentro do *hacking*, os White, Grey e Black Hats.\n",
    "\n",
    "Esses nomes vem dos filmes de faroeste, onde o mocinho usava chapéis brancos e os vilões chapéis pretos. Depois dessa explicação do por quê desses nomes podemos entender melhor do que se trata essa nomenclatura dentro de SEO.\n",
    "\n",
    "## Definições\n",
    "\n",
    "**White Hat**:\n",
    "\n",
    "- As boas práticas de SEO consideradas éticas pelo Google, são as práticas que o Google recomenda e não ferem as diretrizes do Google e, por isso, não geram nenhum tipo de impacto negativo ou punição no seu site.\n",
    "\n",
    "**Grey Hat**:\n",
    "\n",
    "- Os que transitam entre as boas práticas e as práticas um pouco mais questionáveis, mas ainda sem serem vistas como 100% erradas.\n",
    "\n",
    "**Black Hat**:\n",
    "\n",
    "- Os que utilizam de más práticas, consideradas erradas e antiéticas pelo Google. Essas técnicas geralmente se tratam de formas de burlar os mecanismos do Google para ranquear melhor e mais rápido. **NUNCA AS FAÇA**.\n",
    "\n",
    "Mas como o Google lida com os problemas gerados por Grey e Black Hats? Através das **Penalizações do Google**.\n",
    "\n",
    "## Penalizações do Google\n",
    "\n",
    "O que é uma penalização do Google?\n",
    "\n",
    "Basicamente é o Google tirando de você aquilo que você batalha todos os dias para conquistar, que é seu tráfego. O buscador faz isso pois acredita que você fez alguma implementação em seu site que vai contra as diretrizes/guidelines do Google, que vai contra as boas práticas de SEO. O buscador faz isso acreditando que você agiu de má fé.\n",
    "\n",
    "Essa penalização acontece pois você pode estar usando de alguma técnica de Black Hat e essa penalização pode ocorrer de duas maneiras:\n",
    "\n",
    "A primeira é a penalização automática, onde o GoogleBot aplica a penalização com base nos parâmetros automaticamente analisados em seu site e a única forma de perceber isso é acompanhando seu tráfego. Se tiver alguma queda brusca e tiver utilizado de alguma técnica de Black Hat, pode ter certeza de que se tráfego foi perdido por causa disso.\n",
    "\n",
    "A segunda forma é por meio de uma penalização manual, que recebemos um e-mail sendo notificado pelo Google pois alguém manualmente puniu o site. Esses casos são bem menos comuns e muito mais difíceis de reverter."
   ]
  }
 ],
 "metadata": {
  "language_info": {
   "name": "python"
  },
  "orig_nbformat": 4
 },
 "nbformat": 4,
 "nbformat_minor": 2
}
