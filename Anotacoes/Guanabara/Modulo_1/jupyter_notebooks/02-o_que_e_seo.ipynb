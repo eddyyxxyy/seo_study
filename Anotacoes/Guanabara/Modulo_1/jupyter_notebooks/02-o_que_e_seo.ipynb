{
 "cells": [
  {
   "attachments": {},
   "cell_type": "markdown",
   "metadata": {},
   "source": [
    "# O que é SEO?\n",
    "\n",
    "## Introdução ao SEO\n",
    "\n",
    "### Definição\n",
    "\n",
    "A sigla SEO significa *Search Engine Optimization* (Otimização de Mecanismos de Busca), ou seja, melhoramos nosso site, nosso conteúdo, otimizando-o (em sua estrutura, organização das seções, palavras colocadas nos lugares certos, etc) para termos melhores resultados nos Mecanismos de Buscas.\n",
    "\n",
    "\"Estamos ajudando o Google?\" (utilizando o Google como exemplo por ser o maior buscador do mundo); estamos \"ajudando\" o Google a dar importância ao conteúdo que produzimos para que eles nos posicione na parte orgânica (gratuita) das buscas? Estamos colaborando para que o Mecanismos de Busca nos *ranqueie* na primeira página?\n",
    "\n",
    "Em suma, SEO é o conjunto de técnicas de otimização para sites, blogs e páginas na web. Essas otimizações visam alcançar bons *rankings* orgânicos gerando tráfego e autoridade para um site, loja ou blog.\n",
    "\n",
    "#### Imagine:\n",
    "\n",
    "Você está em uma sala de aula, tendo um curso de Redação. Neste momento é passado para toda a sala que a redação à ser feita no dia é de tema livre e ao final, após todos redigirem seus textos, eles são ranqueados dos melhores aos piores. Aquele que constrói um site é o mesmo que escreve essa hipotética redação e nossa professora é o Google que, ao corrigir e colocar os textos em ordem, é o algoritmo de ranqueamento do Google. Basicamente um bom título, uma separação por tópicos abordados, textos bem escritos e uma boa estrutura textual vão trazer diversas redações para mais perto do topo da pilha de textos entregues, o mesmo serve para os nossos sites e o ranqueamento deles na página inicial de uma busca, onde os primeiros tem mais chance de serem acessados e os últimos nem sequer serão vistos.\n",
    "\n",
    "### Benefícios e Objetivos\n",
    "\n",
    "Com o SEO aplicado da forma correta, os seus sites ou lojas virtuais, podem obter mais vendas e atrair novos clientes.\n",
    "\n",
    "- Gerar tráfego orgânico qualificado para o site ou loja;\n",
    "    - Podemos gerar um bom tráfego orgânico, mas isso não quer dizer que temos um tráfego qualificado. Como assim? Pense no objetivo da sua aplicação, do seu site, como por exemplo de uma loja virtual, se estamos gerando tráfego e não estamos vendendo, então não temos um tráfego qualificado, pois conseguimos nos indexar e posicionar bem nos mecanismos de busca, mas estamos chamando pelos clientes errados.\n",
    "- Aumentar o tempo de permanência do usuário no site;\n",
    "    - Por exemplo, utilizar de estratégias de escrita para manter o usuário mais tempo lendo teu artigo (algo aplicável em textos longos, que preferimos deixar as informaçoes mais importantes espalhadas pelo texto e preferencialmente deixar momentos chaves da leitura no final do artigo).\n",
    "- Gerar autoridade para um site;\n",
    "    - Geramos **autoridade** quando nos focamos em nosso negócio, em utilizar, por exemplo, as palavras chaves que remetem completamente ao objetivo dos serviços/produtos ofertados por nosso negócio. Como por exemplo, um site que é autoridade em vender consultorias para alavancar contas do Instagram, que utiliza das técnicas de SEO para o Google (ou outros mecanismos de buscas) entendam nosso site como uma **autoridade** nos temas que permeiem pesquisar com as palavras chaves definidas por nós.\n",
    "- Aumentar vendas de serviços e produtos.\n",
    "\n",
    "### Verdades que não te contaram\n",
    "\n",
    "- SEO geralmente demora para gerar os primeiros resultados;\n",
    "- As regras mudam com frequência e não são informadas publicamente em detalhes;\n",
    "- É necessário seguir recomendações que venham das próprias ferramentas de busca, experiências de amigos e/ou professores sérios e pesquisas feitas por terceiros sobre o tema;\n",
    "- Somente os desenvolvedores das ferramentas sabem exatamente como o algoritmo funciona.\n",
    "- Não é possível dar garantias de resultado, o seu concorrente também estará trabalhando para alcançar a primeira posição, para ultrapassar você.\n",
    "\n",
    "### Erros comuns\n",
    "\n",
    "- Não atender aos princípios básicos do SEO;\n",
    "- Criar conteúdo sem estratégia e que o usuário não está procurando;\n",
    "- Conseguir ranquear bem o conteúdo, mas a mensagem não está adequada ao seu público alvo e por isso não gera conversões;\n",
    "- Atração de muito tráfego de baixa qualidade (como, por exemplo, produzir conteúdos que não atendem ao interesse do seu público comprador, do público que converte os cliques de acesso ao seu site em compras no seu negócio);\n",
    "    - Isso pode apenas consumir recursos, como do provedor onde hospedamos nossas aplicações, e enganar nossos esforços, a métrica principal sempre é a venda."
   ]
  }
 ],
 "metadata": {
  "kernelspec": {
   "display_name": "seo-Y3qGFGQu-py3.11",
   "language": "python",
   "name": "python3"
  },
  "language_info": {
   "name": "python",
   "version": "3.11.1"
  },
  "orig_nbformat": 4,
  "vscode": {
   "interpreter": {
    "hash": "931caaa57f37bf04d004f1edaf59e4142fc201490b747478c2d384d7cff30b59"
   }
  }
 },
 "nbformat": 4,
 "nbformat_minor": 2
}
