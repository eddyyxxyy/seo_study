{
  "cells": [
    {
      "cell_type": "markdown",
      "metadata": {
        "id": "R6nn8oIGUoWt"
      },
      "source": [
        "# 2023 Digital Top Trends\n",
        "\n",
        "Fontes:\n",
        "\n",
        "- [Artigo completo em inglês](https://datareportal.com/reports/digital-2023-global-overview-report)\n",
        "- [Vídeo explicativo com os temas principais](https://www.youtube.com/watch?v=p3a5-pEBB4Y)\n",
        "\n",
        "Índice:\n",
        "\n",
        "1. Mobile-First não significa Mobile-Only;\n",
        "2. A posse de criptomoedas está em queda;\n",
        "3. Participação de Social Medias no mercado de Propaganda Digital;\n",
        "4. Estar em todas as plataformas simultaneamente;\n",
        "5. Sobre a busca de Marcas;\n",
        "6. Crescimento de Social Media;\n",
        "7. Uso de telefones Android;\n",
        "8. Crescimento do número de usuário na Internet;\n",
        "9. O tempo online diminiu."
      ]
    },
    {
      "attachments": {},
      "cell_type": "markdown",
      "metadata": {
        "id": "xwuNaW3UXA6B"
      },
      "source": [
        "## Mobile-First não significa Mobile-Only\n",
        "\n",
        "Os dados apontam que mais da metade do tempo que usuários Norte Americanos e Europeus passam na Internet é por meio de dispositivos desktop. Os dispositivos móveis ainda dominam o mercado mundial, nessa questão de tempo de uso, mas notebooks e desktops ainda são as preferências para acessar a Internet nas maiores economias do mundo.\n",
        "\n",
        "É apontado também que há uma queda no número de computadores comprados em relação à anos anteriores, mas isso não muda o fato de que o uso desses dispositivos ainda são a outra metade, a outra maior parcela dos dispositivos utilizados para acessar a Internet.\n",
        "\n",
        "Dessa forma concluímos que, independente dos dados tirados aqui, o estudo do nicho dos seus produtos/serviços deve sempre levar em conta o uso em multiplataforma, sem desconsiderar ou apostar em certos dispositivos."
      ]
    },
    {
      "cell_type": "markdown",
      "metadata": {
        "id": "qFsVyt1PXgNB"
      },
      "source": [
        "## A posse de criptomoedas está em queda\n",
        "\n",
        "Dados revelam que houve uma diminuição na posse de criptomoedas em relação aos ultimos anos, que só haviam vivenciado o crescimento desse tipo de investimento."
      ]
    },
    {
      "cell_type": "markdown",
      "metadata": {
        "id": "jPtkK4QwXiIM"
      },
      "source": [
        "## Participação de Social Medias no mercado de Propaganda Digital\n",
        "\n",
        "Os dados apontam que a cada 3\\$ gastos em Propaganda Digital, pelo menos 1\\$ vem de propagandas em mídias digitais.\n",
        "\n",
        "Isso nos mostra que o investimento em anúncios dentro de mídias sociais dobrou desde a pandemia do Covid-19."
      ]
    },
    {
      "cell_type": "markdown",
      "metadata": {
        "id": "afgcbDpaXlnK"
      },
      "source": [
        "## Estar em todas as plataformas simultaneamente\n",
        "\n",
        "Dados apontam que a média de usuários únicos, que só usam uma plataforma, é um valor pequeno demais para se considerar estar em todas as plataformas. Ter um bom acompanhamento e desenvolvimento de conteúdos em cada uma das que se utiliza é o essencial, expandindo cada vez mais, de maneira controlada e estratégica, para outras plataformas desde que isso não afete as implementações que já estamos mantendo e criando.\n",
        "\n",
        "Vale ressaltar que a criação de conteúdo variado entre as plataformas é o mais indicado, para prevenir a repetição das mensagens, visões, anúncios e outros conteúdos em diversas plataformas."
      ]
    },
    {
      "cell_type": "markdown",
      "metadata": {
        "id": "HsKPo7otXom2"
      },
      "source": [
        "## Sobre a busca de Marcas\n",
        "\n",
        "Os dados apontam que ao buscar por Marcas (como Adidas, Apple, etc), pessoas entre 16 e 34 anos dão preferência para realizar as buscas em Redes Sociais em vez de procurar em mecanismos de buscas.\n",
        "\n",
        "É notado que metade dos usuários a nível global buscam frequentement pelas Marcas mais pelas Redes Sociais para as conhecerem melhor e ver seu conteúdo.\n",
        "\n",
        "Ao que parece, o Instagram e o Facebook, jutamente com o Pinterest, Twitter e TikTok (além do Reddit e LinkedIn), são gigantescos expoentes nessa questão. Valendo ressaltar que o SnapChat ainda é um grande aplicativo e ainda é muito utilizado em outros países."
      ]
    },
    {
      "cell_type": "markdown",
      "metadata": {
        "id": "UT0vcNx4Xqtx"
      },
      "source": [
        "## Crescimento de Social Media\n",
        "\n",
        "O crescimento de Redes Sociais continua, mesmo que menos expressivo. A, provavelmente não citada por alguém próximo à você, destruição ou fim das Redes Sociais a fim de adotar um outro esquema de comunicação é totalmente fabricado, é falso.\n",
        "\n",
        "Além desse crescimento no número de usuários, é notado também que o tempo gasto pelos usuários em Redes Sociais também cresceu."
      ]
    },
    {
      "cell_type": "markdown",
      "metadata": {
        "id": "WFB5kBggXs5A"
      },
      "source": [
        "## Uso de telefones Android\n",
        "\n",
        "Pode-se entender que o tempo de uso de celulares Android tem crescido tbm, a média é de 5 horas por dia de uso, ou seja, 30% do nosso tempo acordado é gasto em celulares."
      ]
    },
    {
      "cell_type": "markdown",
      "metadata": {
        "id": "J-zZGx80Xvrm"
      },
      "source": [
        "## Crescimento do número de usuários na Internet\n",
        "\n",
        "O crescimento dado neste ano se deve muito mais a correções de dados prévios do que um real crescimento. Então cuidado com o uso dessas informações.\n",
        "\n",
        "De toda forma, o crescimento é evidente e provavelmente foi afetado pela demora no envio dos dados de uso da Internet por parte de organizações e governos."
      ]
    },
    {
      "cell_type": "markdown",
      "metadata": {
        "id": "d-FsPZzVXxqX"
      },
      "source": [
        "## O tempo online diminiu\n",
        "\n",
        "Os dados apontam que o tempo de permanência online dos usuários diminiu pelo menos 20 minutos em média por dia nos ultimos 12 meses, evidenciando uma queda de praticamente 5% no uso.\n",
        "\n",
        "Isso provavelmente se deve à uma mudança no comportamento dos usuários que parece ter mais propósito e consideração quanto ao por que e o que fazer quando estamos usando a Internet.\n",
        "\n",
        "Os usuários parecem estar cada vez mais valorizando **qualidade** em vez de *quantidade*."
      ]
    }
  ],
  "metadata": {
    "colab": {
      "provenance": [],
      "toc_visible": true
    },
    "gpuClass": "standard",
    "kernelspec": {
      "display_name": "Python 3",
      "name": "python3"
    },
    "language_info": {
      "name": "python"
    },
    "orig_nbformat": 4
  },
  "nbformat": 4,
  "nbformat_minor": 0
}
