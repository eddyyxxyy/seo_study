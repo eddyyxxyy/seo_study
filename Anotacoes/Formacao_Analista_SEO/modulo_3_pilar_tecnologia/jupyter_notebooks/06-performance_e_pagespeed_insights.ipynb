{
 "cells": [
  {
   "attachments": {},
   "cell_type": "markdown",
   "metadata": {},
   "source": [
    "# Performance do Site e PageSpeed Insights\n",
    "\n",
    "Ao acessarmos o site da ferramenta [PageSpeed Insights](https://pagespeed.web.dev/), já nos deparamos com uma interface limpa e direta ao ponto, onde podemos informar a URL do nosso site, do site que queremos analisar, e então já ter informações concretas sobre suas avaliações do *Core Web Vitals* (estudado nas anotações anteriores).\n",
    "\n",
    "As métricas que estudamos na anotação pertinente ao *Core Web Vitals* nos conta sobre a LCP (Largest Contentful Paint, o tempo de carregamento do conteúdo mais \"pesado\" da página), o FID (First Input Delay, o tempo gasto de processamento entre a ação de um usuário na página e a resposta do site) e o CLS (Cumulative Layout Shift, o impacto da mudança visual da estrutura da página conforme seus elementos são carregados).\n",
    "\n",
    "Serão essas métricas analisadas e mostradas para nós no *PageSpeed Insights*.\n",
    "\n",
    "## Sobre a ferramenta e seu uso\n",
    "\n",
    "Quando informamos a URL à ser analisada, temos como resultado a pontuação das métricas citadas e ainda outras mais. A pontuação dada à nós é baseada em todos os fatores relevantes ao Google para com a página.\n",
    "\n",
    "O interessante é que, além da pontuação gerada, um status de aprovação/reprovação é mostrado e logo acima dele a divisão entre a visualização por dispositivos móveis e computadores.\n",
    "\n",
    "De toda forma, é incrível os Insights que podemos ter dessa análise gerada, pois todos eles direcionam de forma objetiva, técnica e amigável, quais as mudanças que podem ser feitas para a melhora de cada um dos aspectos que estão piorando a qualidade do nosso site. Essas recomendações são chamadas de *Oportunidades*.\n",
    "\n",
    "### Sobre as *Oportunidades*\n",
    "\n",
    "Geralmente essas correções que o PageSpeed aponta são feitas por desenvolvedores. Uma vez que o Analista de SEO não necessariamente sabe como funcionam as implementações e tecnologias utilizadas. Por isso os conhecimentos de SEO aliados a programação são incríveis no ambito da criação de aplicações Web.\n",
    "\n",
    "O objetivo do Analista de SEO é fazer a **ANÁLISE** da página e entregar de forma \"pronta\" as melhorias e direcionamentos que o site precisa e poderia ter. É a analisar os problemas e levar a um time apto, capaz de resolver.\n",
    "\n",
    "## A análise dos dados\n",
    "\n",
    "Quando trabalhamos com essa ferramenta não temos de forma alguma \"descanso\" ou desatenção. Mesmo que um site atenda aos requisitos para uma aprovação e ser bem avaliado no quesito de desempenho, tendo uma nota de 90 ou mais, ele ainda pode chegar a 100 e é isso que vamo visar sempre.\n",
    "\n",
    "A forma como entregamos esse trabalho da maneira correta, coerente e de fato valorosa, é estudada mais a fundo conforme as anotações forem sendo feitas, mas a prévia análise e a construção de uma memória sobre os conceitos já nos permite criar repertório para futuras explanações sobre os defeitos ou características a melhorar sobre o site.\n",
    "\n",
    "Mais uma vez, a criação dessas aplicações Web devem SEMPRE levar em conta a responsividade, o uso em dispositivos móveis e suas especifidades, pois este é um fator EXTREMAMENTE importante na criação do seu serviço ou showcase dos seus produtos."
   ]
  }
 ],
 "metadata": {
  "language_info": {
   "name": "python"
  },
  "orig_nbformat": 4
 },
 "nbformat": 4,
 "nbformat_minor": 2
}
