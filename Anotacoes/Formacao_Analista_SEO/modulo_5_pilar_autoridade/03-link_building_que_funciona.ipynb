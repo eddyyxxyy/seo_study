{
 "cells": [
  {
   "attachments": {},
   "cell_type": "markdown",
   "metadata": {},
   "source": [
    "# Práticas de Link Building que funcionam\n",
    "\n",
    "Após termos falado das práticas que não funcionam, iremos abordar o que de fato funciona e agrega nas estratégias de SEO quanto ao Link Building.\n",
    "\n",
    "As práticas recomendadas e que funcionam são:\n",
    "\n",
    "- Guest Post;\n",
    "- Assessoria de Imprensa Digital;\n",
    "- Conteúdos Interativos e;\n",
    "- Estudos e pesquisas de mercado.\n",
    "\n",
    "## Guest Post\n",
    "\n",
    "Como o nome já sugere, é um post de um convidado, é uma postagem convidada. É a criação de um conteúdo em uma página externa, falando sobre algum assunto que dê _match_ entre essa página do site externo com o seu.\n",
    "\n",
    "Então, por exemplo, se temos um site sobre Marketing Digital, iremos procurar portais que também falem sobre assuntos relacionados à esse tema de forma geral e vamos oferecer um conteúdo gratuito, com valor e que indexe para o site externo (para o portal que você está oferecendo a postagem). Dessa forma, pode-se linkar conteúdos do seu site por meio de tags `<a>` e trazer benefícios para ambos os sites.\n",
    "\n",
    "A estratégia de Guest Post é a que mais se aproxima de uma forma orgânica de conseguirmos construir links, mesmo sendo considerada uma técnica Grey Hat, o meio termo entre boas e más práticas.\n",
    "\n",
    "## Assessoria de Imprensa Digital\n",
    "\n",
    "Nada mais é do que grandes portais falarem sobre assuntos relevantes para você e seu negócio, referenciando seu site.\n",
    "\n",
    "Se um grande portal está falando de áreas de SEO que crescem cada vez mais, pode haver a chance de citarem sites que abordam o tema de SEO para que os usuários possam pesquisar e conhecer mais. É uma forma \"simples\" de se ganhar um link de forma completamente orgânica.\n",
    "\n",
    "## Conteúdos Interativos\n",
    "\n",
    "Um [site que faz conteúdos interativos muito bem é a Rock Content](https://rockcontent.com/br/), que possui páginas que apresentam um conteúdo que visa ensinar e faz com que usuário vá aprendendo conforme interage com a página.\n",
    "\n",
    "Sites com páginas interativas geralmente ganham muitos links, uma vez que os usuários e outros sites veem o conteúdo e percebem seu valor, fazendo com que uma citação, referência ou indicação ocorra com maior facilidade por parte de quem aponta o site/ferramenta.\n",
    "\n",
    "Conteúdos diferenciados, uteis e disruptivos tendem à ser uma forma de angariar links de uma forma orgânica.\n",
    "\n",
    "## Estudos e Pesquisas de Mercado\n",
    "\n",
    "Considerada por muitos a melhor estratégia de Link Building, pois se caracteriza pela produção de um conteúdo muito relevante para sua comunidade e ganha links de pessoas confiáveis e realmente interessadas no seu assunto.\n",
    "\n",
    "Uma empresa que sempre fez muito bem a produção desses conteúdos é a [Conversion](https://www.conversion.com.br/), que lança relatórios sobre E-Commerce periódicamente com conteúdos atualizados e com muitos detalhes sobre o mercado desse segmento.\n",
    "\n",
    "São conteúdos relativamente fáceis de se produzir conteúdo, uma vez que ferramentas e pesquisas sobre os mais variados temas existem e podem auxiliar na criação do seu texto.\n",
    "\n",
    "Um conteúdo único e exclusivo que traz todos os requisitos para a criação de uma página original, com conteúdo útil e de ampla gama de acesso por parte de pessoas realmente interessadas, pessoas estas que são usuárias da Web que provavelmente estão num momento de busca que vai levar à uma possível conversão.\n",
    "\n"
   ]
  }
 ],
 "metadata": {
  "language_info": {
   "name": "python"
  },
  "orig_nbformat": 4
 },
 "nbformat": 4,
 "nbformat_minor": 2
}
