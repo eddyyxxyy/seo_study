{
 "cells": [
  {
   "attachments": {},
   "cell_type": "markdown",
   "metadata": {},
   "source": [
    "# O que é Link Building?\n",
    "\n",
    "Considerada ser a estratégia de SEO Off-Page com maior resultado e um dos maiores resultados de SEO de maneira geral, o Link Building costuma ser um assunto polêmico na área.\n",
    "\n",
    "Polêmica essa por quê ele envolve técnicas não orgânicas para se conseguir os links e é justamente o que o Google não recomenda e em caso de descoberta, pune quem o fez. Em alguns casos, pode-se até ser retirado do buscador.\n",
    "\n",
    "Apesar disso, o Link Building ainda é uma estratégia importantíssima, principalmente para os sites que estão começando e precisam gerar alguma relevância na Web. Mas do que se trata exatamente o Link Building?\n",
    "\n",
    "## Entendendo melhor a construção de links\n",
    "\n",
    "Na tradução literal, \"Link Building\" significa \"Construção de Links\" para seu site, aumentando as referências que o seu site possui através desses links externos.\n",
    "\n",
    "Diferente dos links que fazemos internamente no nosso site, que encaminham de uma página para outra do nosso mesmo site, nesse caso vão ser feitos links de outros sites para o seu site.\n",
    "\n",
    "Existe uma outra expressão no mundo do Link Building que também gera polêmicas que se chama Link Juice, vamos entender o que significa isso. O Link Juice é a divisão da relevância de uma página que está linkando entre os links que estão sendo feitos por essa página.\n",
    "\n",
    "É como se o Link Juice fosse uma jarra de suco e dentro dessa jarra de suco estão sendo feitos links para vários outros sites; o suco é a relevância, pois possui os links que compartilham a relevância da página por serem referências à um outro conteúdo em outro site, dessa forma, é distribuído o suco entre diversos copos (os outros sites) e temos o compartilhamento de uma parcela de relevância e autoridade.\n",
    "\n",
    "A grande questão do Link Building e Link Juice é que só se consegue passar relevância para outros sites usando links externos que possuem a diretiva `Dofollow` na tag de link.\n",
    "\n",
    "Os links externos são de fato como uma carta de recomendação em entrevistas de emprego, pois geralmente são redigidas por alguém de cargo superior que já teve experiências contigo e já possui relevância pela trajetória e cargo que possui. Dessa forma, a relevância dessa pessoa é passada para você por meio de uma carta de recomendação que traz maior credibilidade, relevância e autoridade ao seu apelo pelo cargo de trabalho que está concorrendo na vaga.\n",
    "\n",
    "## Como o Google avalia os links externos?\n",
    "\n",
    "O primeiro ponto é a quantidade de links que você recebe, então, no caso de Link Building, quantidade pode significar qualidade. Mas por quê só poderia e não necessariamente significa que traz relevância? Pois muitas das vezes recebemos muitos links de um único domínio, não só a quantidade de links é relevante como a quantidade de domínios. É muito melhor receber 5 links de domínios diferentes, do que 5 links de um único domínio.\n",
    "\n",
    "Também é importante salientar que o contexto do site que te referência também é importante. Se, por exemplo, temos um site que fala de SEO e um outro que fala sobre Medicina Nuclear, qual o sentido de existir uma linkagem entre eles? Nenhum. Dessa forma, o contexto em que se está a produção dos conteúdos, venda de produtos e serviços do site sempre estarão colocando em cheque a construção de links que não possuam sentido contextual.\n",
    "\n",
    "Devemos sempre escolher um bom texto âncora que se conecte com a página que será linkada, uma vez que a produção do link deve garantir que a leitura de um ser humano e de bots sejam de boa qualidade. Mas, por quê? Pois o Link Building pode melhorar o posicionamento daquela palavra-chave naquela página, logo, selecionar a página e texto âncora corretos trazem muito mais benefícios.\n",
    "\n",
    "Há também mais três conceitos que são bem simples de se entender: Link Velocity, Dofollow e Nofollow.\n",
    "\n",
    "- Link Velocity se trata da velocidade que se ganha links externos que levam ao seu site. O Google acha muito suspeito que sites que surgiram a pouco tempo e tem pouquíssimos posts, ganhar 15 links externos em um mês. Uma vez que o site não é famoso, não está bem ranqueado no Google, não é relevante e do nada está ganhando diversos links em menos de um mês, seremos punidos. Para o Google, o conceito de Link Building deve ser orgânico, então faça-o da maneira \"mais orgânica possível\".\n",
    "- Dofollow é a diretiva \"oculta\" de links que não implementam o Nofollow. Ou seja, todo link é cabível de ser acessado e levar à onde quer que seja seu destino, dessa forma todos os links sem a diretiva de Nofollow são Dofollow e transportam relevância e autoridade para a página/site que destinam a linkagem.\n",
    "\n",
    "  ```html\n",
    "  <a href=”https://www.nomedosite.com/”>Texto âncora com palavras-chave</a>\n",
    "  ```\n",
    "\n",
    "- Nofollow é a diretiva explicita que deve ser colocada em links que não se deseja gerar e compartilhar relevância/autoridade. É feita da seguinte forma:\n",
    "\n",
    "  ```html\n",
    "  <a href=”https://www.nomedosite.com/” rel=”nofollow”>Texto âncora com palavras-chave</a>\n",
    "  ```\n"
   ]
  }
 ],
 "metadata": {
  "language_info": {
   "name": "python"
  },
  "orig_nbformat": 4
 },
 "nbformat": 4,
 "nbformat_minor": 2
}
