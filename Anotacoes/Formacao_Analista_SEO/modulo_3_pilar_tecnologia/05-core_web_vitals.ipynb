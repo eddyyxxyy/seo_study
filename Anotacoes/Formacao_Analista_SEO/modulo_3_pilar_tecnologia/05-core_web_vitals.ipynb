{
 "cells": [
  {
   "attachments": {},
   "cell_type": "markdown",
   "metadata": {},
   "source": [
    "# Core Web Vitals\n",
    "\n",
    "Em 2021, surgiu um update no Google que gerou bastante tumulto, este update foi chamado de *Paid Experience Update*. Ele foi responsável pela introdução de 3 métricas que medem a experiência do usuário nas páginas dos sites e passaram a ser vitais quando falamos da indexabilidade dos sites, essas métricas são chamdas de *Core Web Vitals*.\n",
    "\n",
    "Vamos entender cada uma delas.\n",
    "\n",
    "## As métricas:\n",
    "\n",
    "### LCP - Largest Contentful Paint (Loading)\n",
    "\n",
    "Traduzindo o LCP para português temos algo como \"Maior Renderização de Conteúdo\". Essa métrica mede o desempenho do carregamento das páginas, ou seja, o tempo que demora para carregar o maior conteúdo que tem dentro de uma página.\n",
    "\n",
    "O que devemos ressaltar é que não se trata do carregamento da página inteira, mas sim o tempo que o maior conteúdo dentro de uma página vai carregar.\n",
    "\n",
    "Segundo o Google, um tempo bom para a LCP é de 2.5 segundos após o início do carregamento da página, sendo até 4 segundos uma nota considerada razoável e que precisa de melhoras, qualquer tempo de carregamento acima disso é considerado *negativo*.\n",
    "\n",
    "### FID - First Input Delay (Interactivity)\n",
    "\n",
    "FID, que significa \"O Atraso da Primeira Entrada\", mede a interatividade de um usuário com alguma página, ou seja, o tempo gasto entre o momento que o usuário enviou uma ação, um clique, uma interação com a página, e o momento que essa ação é iniciada. Essa métrica aborda um \"acionamento\" de milissegundos desde o momento que você clica até o site começar a processar seu clique, é basicamente isso.\n",
    "\n",
    "O Google indica que as páginas devem ter um FID de 100 milisegundos ou menos para serem considerados bons. Acima disso, até antes de 300 milisegundos, é considerado razoável e precisa de melhoras e qualquer valor acima deste é considerado *negativo*, ruim, diminui o ranqueamento do site/página.\n",
    "\n",
    "### CLS - Cumulative Layout Shift (Visual Stability)\n",
    "\n",
    "CLS significa \"Mudança Acumulativa de Layout\", é basicamente a medida da estabilidade visual do seu site conforme sua página vai caregando. Isso acontece, normalmente, através daquelas reorganizações da página quando ela está terminando de carregar todos os seus elementos.\n",
    "\n",
    "Se trata daquele carregamento dos elementos da página que ficam se rearranjando conforme os elementos vão se organizando dentro da estrutura do site, do HTML e dos estilos CSS. Isso ocorre principalmente nas páginas que estão sendo acessadas por dispositivos Mobile.\n",
    "\n",
    "No CLS, a métrica é feita através de uma pontuação calculada olhando para o impacto dessas movimentações, na distâncias entre os elementos antes e depois da reorganização.\n",
    "\n",
    "Para que a média de CLS seja boa ela deve estar em 0.1 ou menos, para ser considerada razoável e que necessita de melhoras teremos valores acima de 0.1 e abaixo de 0.25. Qualquer valor de 0.25 é considerado ruim e é punitivo com nosso site/página, é *negativo* no impacto que causamos.\n",
    "\n",
    "## Para encontrar essas estatísticas utilizamos...\n",
    "\n",
    "O **PageSpeed Insights**, algo que veremos nas próximas anotações."
   ]
  }
 ],
 "metadata": {
  "language_info": {
   "name": "python"
  },
  "orig_nbformat": 4
 },
 "nbformat": 4,
 "nbformat_minor": 2
}
