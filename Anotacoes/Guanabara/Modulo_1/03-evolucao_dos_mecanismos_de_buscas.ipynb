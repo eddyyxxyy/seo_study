{
 "cells": [
  {
   "attachments": {},
   "cell_type": "markdown",
   "metadata": {},
   "source": [
    "# Evolução dos Mecanismos de Buscas\n",
    "\n",
    "Sobre o termo utilizado majoritariamente nas anotações que farei será Mecanismo de Busca, mas podemos nos referir à mesma coisa dizendo:\n",
    "\n",
    "- *Search Engine*;\n",
    "- Ferramenta de Busca;\n",
    "- Motor de Busca;\n",
    "- Ou até mesmo \"Google\", por ser o Mecanismo de Busca mais famoso;\n",
    "- etc...\n",
    "\n",
    "Nada mais é do que um grande sistema (que envolve muitas subrotinas entre aplicações) que permite vasculhar palavras em uma grande base de dados, atualizada constantemente com o conteúdo disponível na Internet.\n",
    "\n",
    "## Na Internet\n",
    "\n",
    "A Internet não surgiu já provendo um mecanismo de busca para acessar seus sites e arquivos, era uma amalgama de conteúdos espalhados por protocolos que nem visualmente agradáveis eram (antes do HTML, por exemplo). O primeiro caso de \"ferramenta de busca\", em 1990, foi o *Archie Query Form*, que basicamente era um site que buscavamos **arquivos** (sabendo exatamente o nome do arquivo e extensão) e configuravamos a busca para buscar em diretórios públicos de FTP pelo arquivo desejado.\n",
    "\n",
    "### Primeiros Buscadores\n",
    "\n",
    "Quando a World Wide Web (WWW) começou a engatar o domínio da Internet em 1993, os primeiros buscadores surgiram, sendo um deles o WWWW, World Wide Web Worm e no ano seguinte o *Yahoo!*, que foi o primeiro de grande sucesso comercial de buscadores, de Search Engines, inclusive já com um concorrente, o WebCrawler, que diferente do *Yahoo!* ele mesmo encontrava seu site, em vez de você o enviar e pedir para ser indexado nas buscas. E também podemos citar o *Lycos*, um dos primeiros a já começar com um investimento enorme para realização de suas operações, foi o início do \"ganhar dinheiro com Internet\".\n",
    "\n",
    "### O início dos buscadores inteligentes\n",
    "\n",
    "Temos, por exemplo, o *Excite*, que contava com, além da inclusão manual, jornalistas para escrever sobre os sites. Explicando melhor, tinhamos a URL do site e junto dela, uma frase escrita por esses jornalistas; dessa forma, na visão da empresa, começou a ser criado um *rank* (com organização também manual) para a ordem de aparição das páginas.\n",
    "\n",
    "Também, da mesma época, temos o *Alta Vista*, que possuia um ranking de popularidade automatizado (mesmo que não fosse o algoritmo mais sofisticado com as validações para um melhor ranqueamento, foi um dos primeiros a implementar isso). E além disso, diferentemente dos outros mecanismos de busca da época, não tinhamos somente uma lista de conteúdos, mas sim a \"caixinha\" que colocamos um texto para buscarmos algo.\n",
    "\n",
    "Em 1995, surgiu o *BackRub*, um projeto criado por dois estudantes da Universidade de Stanford com o objetivo de ser diferente do Alta Vista, que em seu algoritmo dava \"poder\" à um site baseado no número de vezes que a palavra buscada tinha. O BackRub dava \"poder\" a um site pela quantidade de vezes que aquele site recebia referências, o quão famoso ele era, o quanto as pessoas estão indicando esse site; ele varria os sites em busca de links, procurando essas referências para então gerar um ranqueamento (os \"*Back Links*\").\n",
    "\n",
    "Com o passar do tempo, o BackRub mudou de nome, passou a se inspirar num número que representaria a quantidade de sites que um dia iriam ter indexados em seus sistemas, esse número é conhecido como Googol, que originou o nome **Google**, após também brincarem com a palavra \"goggles\", que significa óculos de mergulho e o número citado \"Googol\". Em suma, o que significa essa mudança de nome é a brincadeira entre essas duas palavras, que em vez de navegar pela Internet iriamos mergulhar e que o número de sites indexados e ranqueados é como o número Googol, maior do que o número de atomos estimados no universo.\n",
    "\n",
    "O Google rapidamente se transformou no maior buscador do mercado e já implementou com o passar dos anos serviços de pagamento pelos anúncios e retorno desses investimentos para os produtores de sites/conteúdos, sendo eles o Google Ads e o Google AdSense, e também com a futura criação do Gmail podemos envidenciar ainda mais como é valioso manter seu cliente num ecossistema que você possa o estudar, que você possa extrair métricas desses clientes a fim de os encaminhar os conteúdos mais relevantes, que convertam cliques em vendas/assinaturas.\n",
    "\n",
    "## SERP (Search Engine Result Page)\n",
    "\n",
    "SERP é a lista daquilo que buscamos; Quando pesquisamos algo, temos como retorno uma lista de conteúdos ranqueados por relevância baseada em diversos fatores que definem essa ordem de apresentação. Antes, nos mecanismos de buscas, quem aparecia primeiro geralmente havia pagado pelo anúncio, pagado por sua relevância, e hoje em dia as coisas já estão ainda mais complexas.\n",
    "\n",
    "A lista de conteúdos ranqueados agora contém não somente a lista, possui carrocéis de anúncios, de imagens, separação para negócios locais, \"quem buscou x também buscou y\", etc... Fazer SEO hoje em dia é **muito mais difícil** do que qualquer dia foi, pois há um esquema de tecnologia sobre tecnologias, inteligência sobre inteligência nas Search Engines, existem muitos procedimentos, estratégias, técnicas, para que você consiga se posicionar nesse furação de informações que buscas simples nos geram."
   ]
  }
 ],
 "metadata": {
  "kernelspec": {
   "display_name": "seo-Y3qGFGQu-py3.11",
   "language": "python",
   "name": "python3"
  },
  "language_info": {
   "name": "python",
   "version": "3.11.1"
  },
  "orig_nbformat": 4,
  "vscode": {
   "interpreter": {
    "hash": "931caaa57f37bf04d004f1edaf59e4142fc201490b747478c2d384d7cff30b59"
   }
  }
 },
 "nbformat": 4,
 "nbformat_minor": 2
}
