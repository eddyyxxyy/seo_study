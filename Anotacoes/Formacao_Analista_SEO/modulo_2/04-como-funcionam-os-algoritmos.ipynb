{
 "cells": [
  {
   "attachments": {},
   "cell_type": "markdown",
   "metadata": {},
   "source": [
    "# Como os algoritmos funcionam?\n",
    "\n",
    "Você já se perguntou todas as coisas que o Google consegue fazer por você? Ele consegue, por exemplo:\n",
    "\n",
    "- Resolver expressões matemáticas;\n",
    "- Sugerir filmes só pelo nome da sua atriz preferida;\n",
    "- Mostrar a temperatura do local que estamos;\n",
    "- Rastrear um vôo;\n",
    "- E podemos continuar por um bom tempo se quisermos...\n",
    "\n",
    "Como ele traz isso em poucos segundos? Na verdade, em milésimos de segundos, nossas buscas são extremamente rápidas e praticamente imediatas muitas das vezes.\n",
    "\n",
    "Ele faz tudo isso através de seus **algoritmos**.\n",
    "\n",
    "## Algoritmos\n",
    "\n",
    "E como funcionam os algoritmos? O Google faz atualizações diárias no seu algoritmo, otimizando mais e mais a cada dia as buscas. Nem todas as atualizações são tão impactantes assim e, geralmente, as atualizações mais impactantes são anunciadas e documentadas (mesmo que não tão profundamente) pela própria equipe do Google.\n",
    "\n",
    "Ao longo do tempo, essas atualizações mais notáveis ganharam nomes e iremos ver agora uma linha do tempo delas:\n",
    "\n",
    "- **Flórida (2003)**: responsável por combater sites de baixa qualidade com uso excessivo de *keywords* e expulsou cerca de 50% dos sites que estavam indexados no Google na época;\n",
    "\n",
    "- **Panda (2011)**: responsável por punir sites que tinham conteúdo de baixa qualidade ou conteúdos duplicados (do mesmo site ou de outros);\n",
    "\n",
    "- **Penguim (2012)**: responsável por acabar com web span de otimizações excessivas de conteúdo, como por exemplo o *keyword stuffing*;\n",
    "\n",
    "- **Hummingbird (2013)**: responsável por parar de olhar para somente uma única palavra-chave e passou a prestar atenção no campo semântico da palavra-chave (isso significa que não precisamos mais pesquisar diretamente por \"palavra-chave\", podemos pesquisar por keyword e o contexto pode nos levar ao resultado de busca certo, ao resultado que se refere à mesma coisa usando outra palavra);\n",
    "\n",
    "- **HTTPS SSL Update (2014)**: responsável por tornar o HTTPS como um dos fatores de ranqueamento do Google;\n",
    "\n",
    "- **Mobile-Friendly (2015)**: responsável por priorizar sites que são responsivos, amigáveis à dispositivos móveis;\n",
    "\n",
    "- **RankBrain (2015)**: responsável por incorporar um sistema de IA nos algoritmos do Google, para lidar com o campo semântico e na interpretação do conteúdo produzido. Então ele não somente lia a palavra-chave, ele entendia mais profundamente o contexto daquela palavra-chave;\n",
    "\n",
    "- **Fred (2017)**: responsável por punir sites com baixa qualidade e muita propaganda, como sites com muitos banners, pop-ups e muitos anúncios e sites com muita informação, sites poluídos que diminuem a qualidade da experiência dos usuários;\n",
    "\n",
    "- **Magical Update (2018)**: responsável por beneficiar os sites que eram escritos por autoridades nas áreas, por exemplo, se tenho um site sobre saúde, artigos escritos por médicos, nutricionistas, professores de educação física e outros profissionais de saúde, dariam maior autoridade e credibilidade ao site, aumentando seu ranqueamento;\n",
    "\n",
    "- **BERT (2019)**: BERT siginifica, traduzindo para o português, Representações de Codificador Bidirecional de Transformadores. Ou seja, ele foi responsável por adaptar as buscas para uma linguagem mais humana, se trata da área de computação chamada Processamento de Linguagem Natural. O BERT fez com que a linguagem humana e linguagem de máquina fossem mais interconectadas por meio de suas implementações e pode entender melhor gírias, expressões, formatos, etc. Desta forma o BERT pôde diferenciar ainda mais os conteúdos baseados em seu contexto, em sua semântica, e ranquear ainda melhor os resultados que atendessem as necessidades do cliente;\n",
    "\n",
    "- **Core Updates (todo ano desde 2017)**: são as grandes mudanças de algoritmo que o Google faz pelo menos uma vez ao ano."
   ]
  }
 ],
 "metadata": {
  "language_info": {
   "name": "python"
  },
  "orig_nbformat": 4
 },
 "nbformat": 4,
 "nbformat_minor": 2
}
