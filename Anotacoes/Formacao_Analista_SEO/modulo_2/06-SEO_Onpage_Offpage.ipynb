{
 "cells": [
  {
   "attachments": {},
   "cell_type": "markdown",
   "metadata": {},
   "source": [
    "# SEO Onpage e Offpage\n",
    "\n",
    "Existem dois formatos que podemos nos referir quando falamos dos núcleos de SEO no dia a dia de trabalho.\n",
    "\n",
    "O primeiro aprendemos em anotações anteriores, que são os Pilares de SEO.\n",
    "\n",
    "O segundo, que vamos tratar agora, é a divisão de SEO Onpage e Offpage.\n",
    "\n",
    "## Características\n",
    "\n",
    "SEO **Onpage** (dentro do site):\n",
    "\n",
    "- Title tag;\n",
    "- URL;\n",
    "- Meta Description;\n",
    "- Keywords;\n",
    "- Imagens;\n",
    "- Headings (h1, h2, h3, etc);\n",
    "- Textos/Conteúdo;\n",
    "- Sitemap;\n",
    "- Robots.txt.\n",
    "\n",
    "SEO **Offpage** (fora do seu site):\n",
    "\n",
    "- Links externos (Backlinks);\n",
    "- Menções sociais (em redes sociais);\n",
    "- Menções em outros sites sem uso de links."
   ]
  }
 ],
 "metadata": {
  "language_info": {
   "name": "python"
  },
  "orig_nbformat": 4
 },
 "nbformat": 4,
 "nbformat_minor": 2
}
