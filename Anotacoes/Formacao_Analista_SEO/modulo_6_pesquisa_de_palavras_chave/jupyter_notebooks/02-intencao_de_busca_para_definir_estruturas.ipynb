{
 "cells": [
  {
   "attachments": {},
   "cell_type": "markdown",
   "metadata": {},
   "source": [
    "# Focando na Intenção de Busca para definir estruturas\n",
    "\n",
    "Imagine que você precisa criar um conteúdo para celulares, dispositivos móveis, e tenta pesquisar no Google pelo termo \"celular\" e acaba descobrindo que a intenção de busca principal quanto à essa palavra-chave é Transacional, é pela possível compra de um aparelho e não pelo conteúdo.\n",
    "\n",
    "Mas a questão é: como fazemos a associação do conteúdo com as soluções de produtos? Como construímos um artigo, página, blogpost, etc, que extraia as qualidades de um conteúdo informativo e que traga ao usuário uma forma de se beneficiar (e consequentemente, beneficiar você) com produtos?\n",
    "\n",
    "É muito importante que tenhamos isso bem definido na estrutura do nosso site, pois entregar o conteúdo certo garante que o usuário navegue mais pelo seu site.\n",
    "\n",
    "## No que se basear\n",
    "\n",
    "Devemos alinhar nossa produção de conteúdo com o estudo da Intenção de Busca das palavras-chave escolhidas; podemos, por exemplo, utilizar a ferramenta Semrush para isso, uma vez que a intenção de busca das palavras-chave é mais do que perceptível ao analisar os resultados que a ferramenta nos proporciona.\n",
    "\n",
    "Uma busca pela palavra-chave \"celular\" pode nos levar à diversos resultados de pesquisas relacionadas, como \"celulares baratos\", que nos evidenciam que o usuário não está buscando por um modelo específico, mas sim por opções de celulares em conta, podendo nos guiar para a produção de um conteúdo que aborde justamente uma explanação e listagem de produtos que atendam à essa busca, se utilizando do bom uso de headings, title/meta/alt tags, imagens, short e long tail keywords, etc.\n",
    "\n",
    "Mas, de toda forma, ainda assim podemos enfrentar problemas, como a...\n",
    "\n",
    "## Canibalização de Palavras-Chave\n",
    "\n",
    "Esse termo se refere à criação de multiplas páginas/artigos/blogposts em seu site que abordam e se utilizam das mesmas palavras-chave, o que acarreta numa disputa pelo ranqueamento entre elas e inevitavelmente afeta o desempenho de todas as páginas com esses conteúdos.\n",
    "\n",
    "Então, nesse caso, se nosso objetivo é de realmente alcançar a primeira posição do Google nas SERPs, qual das páginas será mais importante? Quando criamos duas páginas focadas na mesma palavra-chave, como \"celular\", acabamos criar uma competição que o próprio mecanismo de busca talvez não saiba dizer qual é a mais importante, dessa forma acabará dividindo o tráfego entre elas.\n",
    "\n",
    "Isso impacta diretamente todas as métricas do nosso site, de todas as nossas páginas, uma vez que o usuário majoritariamente irá acessar somente uma das páginas do assunto e deixar as outras de lado. No final das contas, perderemos relevância quanto àquele termo, seremos penalizados por nossa falta de planejamento e análise quanto a criação de conteúdo que faça real sentido aos nossos propósitos.\n",
    "\n",
    "## Conclusão\n",
    "\n",
    "Palavras-chave com objetivo Transacional, como nos exemplos dados durante essa explanação, não vão levar usuários suficientes para uma página de blogpost e, por isso, iremos aprender o formato certo para a estruturação do seu site evitando esse tipo de erro de acontecer.\n",
    "\n",
    "Um último exemplo, quando precisamos criar uma página sobre o que é SEO, teremos uma estrutura e planejamento muito diferente de quando precisarmos criar uma página para vender nossos serviços de SEO, pois o objetivo é diferente e a intenção de busca do usuário também. Precisamos definir uma diferenciação e aplicá-la as páginas para que elas não canibalizem entre si, que não disputem e acabem por diminuir seu ranqueamento.\n"
   ]
  }
 ],
 "metadata": {
  "language_info": {
   "name": "python"
  },
  "orig_nbformat": 4
 },
 "nbformat": 4,
 "nbformat_minor": 2
}
