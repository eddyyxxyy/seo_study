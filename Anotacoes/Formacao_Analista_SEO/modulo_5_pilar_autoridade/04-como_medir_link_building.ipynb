{
 "cells": [
  {
   "attachments": {},
   "cell_type": "markdown",
   "metadata": {},
   "source": [
    "# Como medir Link Building?\n",
    "\n",
    "Existe uma métrica polêmica no universo de SEO chamada DA (ou DR, ou AS).\n",
    "\n",
    "Essa métrica é uma pontuação da autoridade de um site, calculada com base no Link Building. Ela pode ser dada pelo Moz, sendo chamada então por DA; pode ser dada pelo Ahrefs, sendo chamada de DR; ou pode ser dada pelo Semrush, sendo chamada de AS. De toda forma, todas as terminologias se tratam da mesma métrica.\n",
    "\n",
    "As siglas dessa métrica em cada uma das ferramentas se trata de:\n",
    "\n",
    "- DA: Domain Authority;\n",
    "- DR: Domain Rating e;\n",
    "- AS: Authority Score;\n",
    "\n",
    "Não importa qual das três iremos acompanhar, o importante é que seja garantido todo o acompanhamento de métricas suas e da concorrência sejam feitas na mesma ferramenta/plataforma.\n",
    "\n",
    "A posição e qualidade de textos âncoras também é um ótimo critério para que possamos acompanhar a autoridade do site por meio do Link Building.\n",
    "\n",
    "Além disso, no GA (Google Analytics) temos como verificar os acessos _referral_, que iremos abordar mais a frente. Mas, para podermos ao menos entender do que se trata de maneira simplória, \"_referral_\" são acessos que vieram de outros sites para o seu, dessa forma, contabilizar e analisar os dados referentes à esse tipo de acesso são sim valiosos para as métricas de Link Building."
   ]
  }
 ],
 "metadata": {
  "language_info": {
   "name": "python"
  },
  "orig_nbformat": 4
 },
 "nbformat": 4,
 "nbformat_minor": 2
}
