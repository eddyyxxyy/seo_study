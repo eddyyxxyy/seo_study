{
 "cells": [
  {
   "attachments": {},
   "cell_type": "markdown",
   "metadata": {},
   "source": [
    "# Fatores de Domínio\n",
    "\n",
    "Mesmo não elencando tantos Fatores de Domínio assim, vamos ver fatores muito importantes que já se encontram na fase de Planejamento.\n",
    "\n",
    "## Os fatores em si\n",
    "\n",
    "- Idade do domínio (Fator de Planejamento): \n",
    "    - O Google afirma que não é preciso se preocupar com esse fator e, sim, com a relevância ao longo do tempo;\n",
    "    - Embora alguns profissionais acreditem que isso seja um fator de ranqueamento, o Google já afirmou que não é. Mas, mesmo assim, a idade do domínio pode ter influência no posicionamento, por que sites mais antigos tiveram mais tempo para produzir conteúdos, ganhar links e receber visitantes;\n",
    "    - Podemos entender que não se trata da idade do domínio em si, mas sim a produção de conteúdo que o tempo pode proporcionar, com mais tempo podemos produzir mais, logo teremos mais fatores corroborando para um melhor ranqueamento.\n",
    "- Palavra-chave no domínio ou subdomínio (Fator de Planejamento):\n",
    "    - No passado era essencial, já foi algo que realmente fazia total diferença;\n",
    "    - Desde 2012, o Google dá pouca relevância à correspondência exata de domínio (*exemplo: carros.com*), com o intuito de evitar spam, pois gerava um comércio indevido de domínios que continham palavras-chave de certos segmentos do mercado;\n",
    "    - Se o domínio inclui a palavra-chave entre outros termos (*exemplo: carrosnovos.com*), o Google dá menos relevância ainda para isso na classificação;\n",
    "    - Ter um bom nome não é para o algoritmo, é para o usuário final saber digitar facilmente a URL de seu site, um nome da fácil memorização é muito útil para criar uma conexão maior com o usuário, pois já conhecem e acreditam no domínio daquele site;\n",
    "    - A relevância de palavras-chave no subdomínio como fator para classificação também é pequena.\n",
    "- País no ccTLD (Fator de Planejamento):\n",
    "    - A sigla TLD significa *Top Level Domain*, Domínio de Topo, o final do domínio e cc é *Country Code*;\n",
    "    - O ccTLD do Brasil é \".br\", por exemplo;\n",
    "    - O Google usa o ccTLD como um dado de geolocalização. Para um domínio \".br\", por exemplo, o buscador entende que o site é relevante para usuários do Brasil. Mas é bom lembrar que ele não faz distinção se com \".br\" é melhor ou não, mas ele sabe que domínios \".br\" tem uma relevância maior no Brasil, para buscas feitas no Brasil. Portanto, é um fator importante para quem quer internacionalizar seu site.\n",
    "- Palavra chave no TLD (Fator ultrapassado):\n",
    "    - Além das TLDs tradicionais (*ex: .com, .net, .org, .gov, etc*), hoje podemos usar terminações de domínios mais criativas (*ex: .guru, .cafe, .ninja, .store, etc*);\n",
    "    - Apesar disso, o Google já esclareceu que trata todas as TLDs igualmente e ignora a presença de palavras-chave nesse elemento do domínio."
   ]
  }
 ],
 "metadata": {
  "language_info": {
   "name": "python"
  },
  "orig_nbformat": 4
 },
 "nbformat": 4,
 "nbformat_minor": 2
}
