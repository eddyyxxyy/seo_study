{
 "cells": [
  {
   "attachments": {},
   "cell_type": "markdown",
   "metadata": {},
   "source": [
    "# Objetivos do curso\n",
    "\n",
    "O objetivo desse curso é oferecer todo o conhecimento, já sendo um profissional da área ou não, para estar apto a desenvolver e aplicar uma estratégia completa de SEO.\n",
    "\n",
    "O foco é oferecer todos os ensumos para nos tornarmos Analistas de SEO e, com isso, abrir muitas portas pro mercado de trabalho digital.\n",
    "\n",
    "A grande maioria das vagas para Analistas de SEO é no modelo remoto, algo que muitos buscam. É uma carreira com muito espaço e diversas formas de encontrar um trabalho, como freelancer, CLT ou PJ, além de poder se utilizar no seu próprio negócio.\n",
    "\n",
    "## O que podemos esperar do curso?\n",
    "\n",
    "Vamos aprender:\n",
    "\n",
    "- O que é SEO;\n",
    "- Sobre tecnologia e como o por \"trás das câmeras\" influenciam diretamente os fatores de ranqueamento do Google;\n",
    "- E o que devemos fazer tecnicamente para performar melhor em diversos aspectos;\n",
    "\n",
    "> Existem diversas técnicas, muitas delas simples de se implementar, para se aplicar e trazer muitos resultados para o seu site.\n",
    "\n",
    "- Vamos ver muitas técnicas para elevar a autoridade do seu site e como se estabelecer ali, para o Google, sendo uma referência no seu assunto/nicho;\n",
    "- Vamos aprender tudo sobre as *keywords*/*palavras-chave*;\n",
    "- Vamos aprender as melhores ferramentas para nos ajudar nas estratégias:\n",
    "    - Google Search Console, SemRush, Google Analytics, entre outras...\n",
    "\n",
    "Além disso, vamos aprender a como fazer uma auditoria completa do nosso site, compilando todas as informações e também como comparar com a concorrência.\n",
    "\n",
    "Também veremos os KPIs de SEO na prática, como medimos os resultados do nosso site... E também, tudo sobre a rotina de SEO:\n",
    "\n",
    "- Calendário de estratégias;\n",
    "- Desafios da carreira;\n",
    "- Como conseguir trabalhos formais ou freelas;\n",
    "- Como devemos trabalhar com outros times;\n",
    "- E pra completar, teremos vários módulos extras com novidades do nosso tema.\n",
    "\n",
    "### Mesmo que pareça difícil, NÃO DESISTA."
   ]
  }
 ],
 "metadata": {
  "language_info": {
   "name": "python"
  },
  "orig_nbformat": 4
 },
 "nbformat": 4,
 "nbformat_minor": 2
}
